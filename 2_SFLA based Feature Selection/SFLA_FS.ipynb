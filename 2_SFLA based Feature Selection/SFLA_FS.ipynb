{
  "nbformat": 4,
  "nbformat_minor": 0,
  "metadata": {
    "colab": {
      "provenance": []
    },
    "kernelspec": {
      "name": "python3",
      "display_name": "Python 3"
    },
    "language_info": {
      "name": "python"
    }
  },
  "cells": [
    {
      "cell_type": "code",
      "execution_count": null,
      "metadata": {
        "id": "k_je3vNjJtRU"
      },
      "outputs": [],
      "source": [
        "import pandas as pd\n",
        "from sklearn.feature_selection import RFECV\n",
        "from sklearn.linear_model import LinearRegression\n",
        "from sklearn.preprocessing import StandardScaler\n",
        "import pandas as pd\n",
        "import numpy as np\n",
        "import matplotlib.pyplot as plt\n",
        "from sklearn.linear_model import Lasso\n",
        "from sklearn.model_selection import train_test_split\n",
        "from sklearn.preprocessing import StandardScaler"
      ]
    },
    {
      "cell_type": "code",
      "source": [
        "from google.colab import drive\n",
        "drive.mount('/content/drive')"
      ],
      "metadata": {
        "id": "-Cp7kIedJt5c"
      },
      "execution_count": null,
      "outputs": []
    },
    {
      "cell_type": "code",
      "source": [
        "data = pd.read_csv('/content/drive/MyDrive/Colab Notebooks/Hybrid features ACPs.csv')"
      ],
      "metadata": {
        "id": "OScXbtKwJvE6"
      },
      "execution_count": null,
      "outputs": []
    },
    {
      "cell_type": "code",
      "source": [
        "data.shape"
      ],
      "metadata": {
        "id": "OK2_90pYJx3C"
      },
      "execution_count": null,
      "outputs": []
    },
    {
      "cell_type": "code",
      "source": [
        "# Separate the features and target variable\n",
        "X = data.iloc[:, 0:953].values\n",
        "y = data.iloc [:, 953].values\n",
        "print(X.shape)\n",
        "print(y.shape)"
      ],
      "metadata": {
        "id": "umZDCeiUJyP6"
      },
      "execution_count": null,
      "outputs": []
    },
    {
      "cell_type": "code",
      "source": [
        "\n",
        "# Fitness function: Customize it based on your feature selection criteria\n",
        "def fitness_function(feature_indices):\n",
        "    # Use feature_indices to filter features and calculate performance metric\n",
        "    X_selected = X[:, feature_indices]\n",
        "    # For example, calculate the sum of variances (you can replace this with model accuracy, etc.)\n",
        "    return np.sum(np.var(X_selected, axis=0))  # minimize variance for simplicity\n",
        "\n",
        "# Parameters\n",
        "num_features = X.shape[1]        # Total features in the dataset\n",
        "num_selected_features = 437      # Number of features to select\n",
        "num_population = 20              # Number of frogs\n",
        "num_memplexes = 5                # Number of memplexes\n",
        "max_iter = 100                   # Maximum iterations\n",
        "step_size = 1                    # Step size for updating positions\n",
        "\n",
        "# Initialize frogs randomly with feature indices\n",
        "population = [np.random.choice(num_features, num_selected_features, replace=False) for _ in range(num_population)]\n",
        "\n",
        "# Main optimization loop\n",
        "for iter in range(max_iter):\n",
        "    # Evaluate fitness\n",
        "    fitness = np.array([fitness_function(frog) for frog in population])\n",
        "    sorted_indices = np.argsort(fitness)\n",
        "    population = [population[i] for i in sorted_indices]\n",
        "\n",
        "    # Shuffle population and divide into memplexes\n",
        "    np.random.shuffle(population)\n",
        "    memplex_size = num_population // num_memplexes\n",
        "    memplexes = [population[i:i + memplex_size] for i in range(0, num_population, memplex_size)]\n",
        "\n",
        "    # Local search within each memplex\n",
        "    for memplex in memplexes:\n",
        "        best_frog = memplex[0]\n",
        "        best_fitness = fitness_function(best_frog)\n",
        "\n",
        "        for frog in memplex:\n",
        "            # Generate new feature subset (neighboring solution)\n",
        "            new_indices = frog + np.random.randint(-step_size, step_size + 1, size=num_selected_features)\n",
        "            new_indices = np.clip(new_indices, 0, num_features - 1)  # Keep indices within range\n",
        "            new_fitness = fitness_function(new_indices)\n",
        "\n",
        "            # Update if the new subset is better\n",
        "            if new_fitness < fitness_function(frog):\n",
        "                frog[:] = new_indices\n",
        "\n",
        "    # Combine updated memplexes\n",
        "    population = [frog for memplex in memplexes for frog in memplex]\n",
        "\n",
        "# Best solution\n",
        "best_solution = population[0]\n",
        "best_fitness = fitness_function(best_solution)\n",
        "print(\"Best feature indices:\", best_solution)\n",
        "print(\"Best fitness:\", best_fitness)"
      ],
      "metadata": {
        "id": "n2Y6oxp2JzzT"
      },
      "execution_count": null,
      "outputs": []
    },
    {
      "cell_type": "code",
      "source": [
        "# Save the best selected features in a CSV file\n",
        "best_features = X[:, best_solution]  # Get the best selected features\n",
        "df_best_features = pd.DataFrame(best_features)  # Convert to DataFrame for easy CSV saving\n",
        "df_best_features.to_csv(\"best_selected_features-SFLA.csv\", index=False)  # Save to CSV"
      ],
      "metadata": {
        "id": "1YQja3IHJ1D6"
      },
      "execution_count": null,
      "outputs": []
    }
  ]
}